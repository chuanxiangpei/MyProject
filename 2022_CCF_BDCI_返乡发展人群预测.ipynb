{
  "cells": [
    {
      "cell_type": "markdown",
      "metadata": {
        "id": "view-in-github",
        "colab_type": "text"
      },
      "source": [
        "<a href=\"https://colab.research.google.com/github/chuanxiangpei/MyProject/blob/master/2022_CCF_BDCI_%E8%BF%94%E4%B9%A1%E5%8F%91%E5%B1%95%E4%BA%BA%E7%BE%A4%E9%A2%84%E6%B5%8B.ipynb\" target=\"_parent\"><img src=\"https://colab.research.google.com/assets/colab-badge.svg\" alt=\"Open In Colab\"/></a>"
      ]
    },
    {
      "cell_type": "code",
      "execution_count": null,
      "metadata": {
        "colab": {
          "base_uri": "https://localhost:8080/"
        },
        "id": "9ERKq4V_q10L",
        "outputId": "d290563a-150f-4aa3-a93a-d10dcd50eeaa"
      },
      "outputs": [
        {
          "output_type": "stream",
          "name": "stdout",
          "text": [
            "Drive already mounted at /content/drive; to attempt to forcibly remount, call drive.mount(\"/content/drive\", force_remount=True).\n",
            "\n",
            "dataA.csv  dataTrain.csv  models  pred.csv\n"
          ]
        }
      ],
      "source": [
        "import os\n",
        "from google.colab import drive\n",
        "drive.mount('/content/drive')\n",
        "\n",
        "path = \"/content/drive/MyDrive/data\"\n",
        "\n",
        "os.chdir(path)\n",
        "os.listdir(path)\n",
        "\n",
        "print()\n",
        "!ls"
      ]
    },
    {
      "cell_type": "markdown",
      "metadata": {
        "id": "zHkpt4smOXOg"
      },
      "source": [
        "1. 导入包"
      ]
    },
    {
      "cell_type": "code",
      "execution_count": null,
      "metadata": {
        "id": "4RXQuovusbKE"
      },
      "outputs": [],
      "source": [
        "# -*- coding: utf-8 -*-\n",
        "# Numerical Operations\n",
        "import math\n",
        "import numpy as np\n",
        "\n",
        "# Reading/Writing Data\n",
        "import pandas as pd\n",
        "import os\n",
        "import csv\n",
        "\n",
        "# For Progress Bar\n",
        "from tqdm import tqdm\n",
        "\n",
        "# Pytorch\n",
        "import torch \n",
        "import torch.nn as nn\n",
        "from torch.utils.data import Dataset, DataLoader\n",
        "\n",
        "from torch.optim.lr_scheduler import CosineAnnealingWarmRestarts\n",
        "\n",
        "import torch.nn as nn\n",
        "import torchvision.transforms as transforms\n",
        "\n",
        "# sklearn package\n",
        "from sklearn.model_selection import train_test_split\n",
        "from sklearn.model_selection import cross_val_score\n",
        "from sklearn.ensemble import ExtraTreesClassifier\n",
        "from sklearn.feature_selection import  SelectFromModel"
      ]
    },
    {
      "cell_type": "markdown",
      "metadata": {
        "id": "fxdplOA5OTFP"
      },
      "source": [
        "2. 超参数"
      ]
    },
    {
      "cell_type": "code",
      "execution_count": null,
      "metadata": {
        "id": "II54s-PmyRjL"
      },
      "outputs": [],
      "source": [
        "device = 'cuda' if torch.cuda.is_available() else 'cpu'\n",
        "config = {\n",
        "    'seed': 5201314,      # Your seed number, you can pick your lucky number. \n",
        "    # 'select_all': True,   # Whether to use all features.\n",
        "    'valid_ratio': 0.2,   # valid_size = train_size * valid_ratio\n",
        "    'test_ratio': 0.2,\n",
        "    'n_epochs': 100,     # Number of epochs.            \n",
        "    'batch_size': 128, \n",
        "    'learning_rate': 1e-3,              \n",
        "    'hidden_layers': 10, \n",
        "    'hidden_dim': 512,\n",
        "    'early_stop': 50,    # If model has not improved for this many consecutive epochs, stop training.     \n",
        "    'save_path': './models/model.ckpt'  # Your model will be saved here.\n",
        "}"
      ]
    },
    {
      "cell_type": "markdown",
      "metadata": {
        "id": "JdiY2gy-OkG9"
      },
      "source": [
        "3. 随机性"
      ]
    },
    {
      "cell_type": "code",
      "execution_count": null,
      "metadata": {
        "id": "JYB59j_gwitq"
      },
      "outputs": [],
      "source": [
        "def same_seed(seed):\n",
        "  np.random.seed(seed)\n",
        "  torch.manual_seed(seed)\n",
        "  if torch.cuda.is_available():\n",
        "    torch.cuda.manual_seed_all(seed)\n",
        "  torch.backends.cudnn.deterministic = True\n",
        "  torch.backends.cudnn.benchmark = False"
      ]
    },
    {
      "cell_type": "markdown",
      "metadata": {
        "id": "cTsGO0AOOod9"
      },
      "source": [
        "4. 数据封装"
      ]
    },
    {
      "cell_type": "code",
      "execution_count": null,
      "metadata": {
        "id": "SYKoA2_HwimK"
      },
      "outputs": [],
      "source": [
        "class MyDataset(Dataset):\n",
        "  def __init__(self, x, y=None):\n",
        "    self.x = torch.FloatTensor(x)\n",
        "    if y is None:\n",
        "      self.y = y\n",
        "    else:\n",
        "      self.y = torch.FloatTensor(y)\n",
        "\n",
        "  def __getitem__(self, index):\n",
        "    if self.y is None:\n",
        "      return self.x[index]\n",
        "    else:\n",
        "      return self.x[index], self.y[index]\n",
        "\n",
        "  def __len__(self):\n",
        "    return len(self.x)"
      ]
    },
    {
      "cell_type": "code",
      "execution_count": null,
      "metadata": {
        "id": "xh-uNucw7dvp"
      },
      "outputs": [],
      "source": []
    },
    {
      "cell_type": "markdown",
      "metadata": {
        "id": "lToUvP9YO34M"
      },
      "source": [
        "5. 模型设计"
      ]
    },
    {
      "cell_type": "code",
      "execution_count": null,
      "metadata": {
        "id": "ESRaZYn97elw"
      },
      "outputs": [],
      "source": [
        "class BasicBlock(nn.Module):\n",
        "    def __init__(self, input_dim, output_dim):\n",
        "        super(BasicBlock, self).__init__()\n",
        "\n",
        "        self.block = nn.Sequential(\n",
        "            nn.Linear(input_dim, output_dim),\n",
        "            nn.ReLU(),\n",
        "            nn.BatchNorm1d(output_dim),\n",
        "            nn.Dropout(0.2)   # 正则\n",
        "        )\n",
        "\n",
        "    def forward(self, x):\n",
        "        x = self.block(x)\n",
        "        return x\n",
        "\n",
        "\n",
        "class MyModel(nn.Module):\n",
        "    def __init__(self, input_dim, output_dim=2, hidden_layers=3, hidden_dim=200):\n",
        "        super(MyModel, self).__init__()\n",
        "\n",
        "        self.fc = nn.Sequential(\n",
        "            BasicBlock(input_dim, hidden_dim),\n",
        "            *[BasicBlock(hidden_dim, hidden_dim) for _ in range(hidden_layers)],\n",
        "            nn.Linear(hidden_dim, output_dim)\n",
        "        )\n",
        "\n",
        "    def forward(self, x):\n",
        "        x = self.fc(x)\n",
        "        return x"
      ]
    },
    {
      "cell_type": "code",
      "execution_count": null,
      "metadata": {
        "id": "WIE86ExD8naM"
      },
      "outputs": [],
      "source": []
    },
    {
      "cell_type": "code",
      "execution_count": null,
      "metadata": {
        "id": "WJsTrhPw8nRf"
      },
      "outputs": [],
      "source": [
        "np.set_printoptions(threshold=np.inf) \n",
        "#显示所有列\n",
        "pd.set_option('display.max_columns', None)\n",
        "#显示所有行\n",
        "pd.set_option('display.max_rows', None)"
      ]
    },
    {
      "cell_type": "code",
      "execution_count": null,
      "metadata": {
        "id": "UwQ6olqgCh1u"
      },
      "outputs": [],
      "source": []
    },
    {
      "cell_type": "markdown",
      "metadata": {
        "id": "Ad2FLIVmPA2q"
      },
      "source": [
        "6. 数据导入与数据预处理"
      ]
    },
    {
      "cell_type": "code",
      "execution_count": null,
      "metadata": {
        "id": "ydSznAoHCiW6"
      },
      "outputs": [],
      "source": [
        "# type: DataFrame\n",
        "# test_data_df = pd.read_csv('dataA.csv')\n",
        "train_data_df = pd.read_csv('dataTrain.csv')\n",
        "\n",
        "# print(f\"\"\"train_data df:{train_data_df.shape}\n",
        "#       test_data df:{test_data_df.shape}\"\"\")\n",
        "\n",
        "# transform column(f3) to digits\n",
        "f3_mapping = {'low':0, 'mid':1, 'high':2}\n",
        "train_data_df['f3'] = train_data_df['f3'].map(f3_mapping)\n",
        "# test_data_df['f3'] = test_data_df['f3'].map(f3_mapping)\n",
        "\n",
        "\n",
        "# Return a Numpy representation of the DataFrame.\n",
        "train_data = train_data_df.values\n",
        "# test_data = test_data_df.values"
      ]
    },
    {
      "cell_type": "markdown",
      "metadata": {
        "id": "iPN_BMybPbfq"
      },
      "source": [
        "7. 特征提取及数据封装"
      ]
    },
    {
      "cell_type": "code",
      "execution_count": null,
      "metadata": {
        "colab": {
          "base_uri": "https://localhost:8080/"
        },
        "id": "O1GbCFVnwij0",
        "outputId": "3dd57b03-cdc5-4665-f58f-b7f56f271beb"
      },
      "outputs": [
        {
          "output_type": "stream",
          "name": "stdout",
          "text": [
            "X_train size:(32000, 46)\n",
            "      X_valid size:(8000, 46)\n",
            "      X_test size:(10000, 46)\n",
            "feature_idx:[42 23 43 22 36 18 24 25 44 45  0  1  4  5  3]\n",
            "number of features:15\n",
            "X_train size:(32000, 15)\n",
            "      X_valid size:(8000, 15)\n",
            "      X_test size:(10000, 15)\n",
            "      y_train size:(32000,)\n",
            "      y_valid size:(8000,)\n"
          ]
        }
      ],
      "source": [
        "same_seed(config['seed'])\n",
        "\n",
        "\n",
        "# Data cleansing\n",
        "# Removing interfering data\n",
        "train_data = train_data[:50000]\n",
        "\n",
        "\n",
        "# spilit train_data to train_data and valid_data\n",
        "# train_data, valid_data = train_valid_split(train_data, config['train_ratio'], config['seed'])\n",
        "\n",
        "X_train, X_test, y_train, y_test = train_test_split(train_data[:, 1:-1], train_data[:, -1], test_size=config['test_ratio'], random_state=config['seed'], stratify=train_data[:, -1])\n",
        "X_train, X_valid, y_train, y_valid = train_test_split(X_train, y_train, test_size=config['valid_ratio'], random_state=config['seed'], stratify=y_train)\n",
        "\n",
        "print(f\"\"\"X_train size:{X_train.shape}\n",
        "      X_valid size:{X_valid.shape}\n",
        "      X_test size:{X_test.shape}\"\"\")\n",
        "\n",
        "# 选取某些特征\n",
        "# 基于哪个模型\n",
        "etc = ExtraTreesClassifier()\n",
        "\n",
        "# 用这个模型训练数据\n",
        "etc_ = etc.fit(X_train, y_train)\n",
        "\n",
        "# 得到各个特征的重要性参数\n",
        "feature_importances = etc_.feature_importances_\n",
        "\n",
        "# 列表形式得到n个相对重要性参数的序号\n",
        "idx = np.argsort(feature_importances)\n",
        "\n",
        "# 根据模型选择特征\n",
        "select_from_model = SelectFromModel(etc_, prefit=True)\n",
        "\n",
        "# 将x_train进行transform\n",
        "X_SFM_ETC = select_from_model.transform(X_train)\n",
        "\n",
        "# 得到feature_idx\n",
        "feature_idx = idx[-X_SFM_ETC.shape[1]:]\n",
        "print(f'feature_idx:{feature_idx}')\n",
        "\n",
        "\n",
        "X_train, X_valid, X_test = X_train[:,feature_idx], X_valid[:,feature_idx], X_test[:,feature_idx]\n",
        "\n",
        "# x_train, x_valid, x_test, y_train, y_valid = select_feature(train_data, valid_data, test_data, config['select_all'])\n",
        "print(f'number of features:{X_train.shape[1]}')\n",
        "print(f\"\"\"X_train size:{X_train.shape}\n",
        "      X_valid size:{X_valid.shape}\n",
        "      X_test size:{X_test.shape}\n",
        "      y_train size:{y_train.shape}\n",
        "      y_valid size:{y_valid.shape}\"\"\")\n",
        "\n",
        "\n",
        "train_dataset = MyDataset(X_train, y_train)\n",
        "\n",
        "valid_dataset = MyDataset(X_valid, y_valid)\n",
        "\n",
        "test_dataset = MyDataset(X_test, y_test)\n",
        "\n",
        "train_loader = DataLoader(train_dataset, batch_size=config['batch_size'], shuffle=True, pin_memory=True)\n",
        "valid_loader = DataLoader(valid_dataset, batch_size=config['batch_size'], shuffle=True, pin_memory=True)\n",
        "test_loader = DataLoader(test_dataset, batch_size=config['batch_size'], shuffle=False, pin_memory=True)\n"
      ]
    },
    {
      "cell_type": "markdown",
      "metadata": {
        "id": "y-cq6uhqPu7W"
      },
      "source": [
        "8. 模型训练"
      ]
    },
    {
      "cell_type": "code",
      "execution_count": null,
      "metadata": {
        "colab": {
          "base_uri": "https://localhost:8080/"
        },
        "id": "0u7-m7LcwiVP",
        "outputId": "cc77e321-2dd5-41dd-e569-370fca85b08d"
      },
      "outputs": [
        {
          "output_type": "stream",
          "name": "stderr",
          "text": [
            "Epoch  [1/100]: 100%|██████████| 250/250 [00:21<00:00, 11.69it/s, loss=0.546]\n"
          ]
        },
        {
          "output_type": "stream",
          "name": "stdout",
          "text": [
            "Epoch  [1 / 100]:  Train Loss:0.5237, Train Acc:0.76128125\n",
            "Epoch  [1 / 100]:  Valid Loss:0.4088, Valid Acc:0.8328373015873016\n",
            "Saving model with acc 0.833, Best model found at epoch 0\n"
          ]
        },
        {
          "output_type": "stream",
          "name": "stderr",
          "text": [
            "Epoch  [2/100]: 100%|██████████| 250/250 [00:20<00:00, 12.27it/s, loss=0.352]\n"
          ]
        },
        {
          "output_type": "stream",
          "name": "stdout",
          "text": [
            "Epoch  [2 / 100]:  Train Loss:0.4118, Train Acc:0.82853125\n",
            "Epoch  [2 / 100]:  Valid Loss:0.3706, Valid Acc:0.8509424603174603\n",
            "Saving model with acc 0.851, Best model found at epoch 1\n"
          ]
        },
        {
          "output_type": "stream",
          "name": "stderr",
          "text": [
            "Epoch  [3/100]: 100%|██████████| 250/250 [00:20<00:00, 12.24it/s, loss=0.374]\n"
          ]
        },
        {
          "output_type": "stream",
          "name": "stdout",
          "text": [
            "Epoch  [3 / 100]:  Train Loss:0.3908, Train Acc:0.840875\n",
            "Epoch  [3 / 100]:  Valid Loss:0.3653, Valid Acc:0.8559027777777778\n",
            "Saving model with acc 0.856, Best model found at epoch 2\n"
          ]
        },
        {
          "output_type": "stream",
          "name": "stderr",
          "text": [
            "Epoch  [4/100]: 100%|██████████| 250/250 [00:20<00:00, 12.24it/s, loss=0.386]\n"
          ]
        },
        {
          "output_type": "stream",
          "name": "stdout",
          "text": [
            "Epoch  [4 / 100]:  Train Loss:0.3800, Train Acc:0.84840625\n",
            "Epoch  [4 / 100]:  Valid Loss:0.3590, Valid Acc:0.8560267857142857\n",
            "Saving model with acc 0.856, Best model found at epoch 3\n"
          ]
        },
        {
          "output_type": "stream",
          "name": "stderr",
          "text": [
            "Epoch  [5/100]: 100%|██████████| 250/250 [00:20<00:00, 12.24it/s, loss=0.3]\n"
          ]
        },
        {
          "output_type": "stream",
          "name": "stdout",
          "text": [
            "Epoch  [5 / 100]:  Train Loss:0.3738, Train Acc:0.8513125\n",
            "Epoch  [5 / 100]:  Valid Loss:0.3499, Valid Acc:0.8607390873015873\n",
            "Saving model with acc 0.861, Best model found at epoch 4\n"
          ]
        },
        {
          "output_type": "stream",
          "name": "stderr",
          "text": [
            "Epoch  [6/100]: 100%|██████████| 250/250 [00:20<00:00, 12.27it/s, loss=0.357]\n"
          ]
        },
        {
          "output_type": "stream",
          "name": "stdout",
          "text": [
            "Epoch  [6 / 100]:  Train Loss:0.3704, Train Acc:0.85203125\n",
            "Epoch  [6 / 100]:  Valid Loss:0.3478, Valid Acc:0.8602430555555556\n"
          ]
        },
        {
          "output_type": "stream",
          "name": "stderr",
          "text": [
            "Epoch  [7/100]: 100%|██████████| 250/250 [00:20<00:00, 12.31it/s, loss=0.404]\n"
          ]
        },
        {
          "output_type": "stream",
          "name": "stdout",
          "text": [
            "Epoch  [7 / 100]:  Train Loss:0.3654, Train Acc:0.8525625\n",
            "Epoch  [7 / 100]:  Valid Loss:0.3493, Valid Acc:0.861359126984127\n",
            "Saving model with acc 0.861, Best model found at epoch 6\n"
          ]
        },
        {
          "output_type": "stream",
          "name": "stderr",
          "text": [
            "Epoch  [8/100]: 100%|██████████| 250/250 [00:20<00:00, 12.29it/s, loss=0.339]\n"
          ]
        },
        {
          "output_type": "stream",
          "name": "stdout",
          "text": [
            "Epoch  [8 / 100]:  Train Loss:0.3601, Train Acc:0.85421875\n",
            "Epoch  [8 / 100]:  Valid Loss:0.3455, Valid Acc:0.8612351190476191\n"
          ]
        },
        {
          "output_type": "stream",
          "name": "stderr",
          "text": [
            "Epoch  [9/100]: 100%|██████████| 250/250 [00:20<00:00, 12.30it/s, loss=0.327]\n"
          ]
        },
        {
          "output_type": "stream",
          "name": "stdout",
          "text": [
            "Epoch  [9 / 100]:  Train Loss:0.3544, Train Acc:0.85509375\n",
            "Epoch  [9 / 100]:  Valid Loss:0.3393, Valid Acc:0.8637152777777778\n",
            "Saving model with acc 0.864, Best model found at epoch 8\n"
          ]
        },
        {
          "output_type": "stream",
          "name": "stderr",
          "text": [
            "Epoch  [10/100]: 100%|██████████| 250/250 [00:20<00:00, 12.33it/s, loss=0.381]\n"
          ]
        },
        {
          "output_type": "stream",
          "name": "stdout",
          "text": [
            "Epoch  [10 / 100]:  Train Loss:0.3510, Train Acc:0.8566875\n",
            "Epoch  [10 / 100]:  Valid Loss:0.3372, Valid Acc:0.8634672619047619\n"
          ]
        },
        {
          "output_type": "stream",
          "name": "stderr",
          "text": [
            "Epoch  [11/100]: 100%|██████████| 250/250 [00:20<00:00, 12.35it/s, loss=0.379]\n"
          ]
        },
        {
          "output_type": "stream",
          "name": "stdout",
          "text": [
            "Epoch  [11 / 100]:  Train Loss:0.3477, Train Acc:0.85671875\n",
            "Epoch  [11 / 100]:  Valid Loss:0.3337, Valid Acc:0.8638392857142857\n",
            "Saving model with acc 0.864, Best model found at epoch 10\n"
          ]
        },
        {
          "output_type": "stream",
          "name": "stderr",
          "text": [
            "Epoch  [12/100]: 100%|██████████| 250/250 [00:20<00:00, 12.28it/s, loss=0.313]\n"
          ]
        },
        {
          "output_type": "stream",
          "name": "stdout",
          "text": [
            "Epoch  [12 / 100]:  Train Loss:0.3476, Train Acc:0.8569375\n",
            "Epoch  [12 / 100]:  Valid Loss:0.3294, Valid Acc:0.8648313492063492\n",
            "Saving model with acc 0.865, Best model found at epoch 11\n"
          ]
        },
        {
          "output_type": "stream",
          "name": "stderr",
          "text": [
            "Epoch  [13/100]: 100%|██████████| 250/250 [00:20<00:00, 12.29it/s, loss=0.379]\n"
          ]
        },
        {
          "output_type": "stream",
          "name": "stdout",
          "text": [
            "Epoch  [13 / 100]:  Train Loss:0.3418, Train Acc:0.8580625\n",
            "Epoch  [13 / 100]:  Valid Loss:0.3314, Valid Acc:0.8649553571428571\n",
            "Saving model with acc 0.865, Best model found at epoch 12\n"
          ]
        },
        {
          "output_type": "stream",
          "name": "stderr",
          "text": [
            "Epoch  [14/100]: 100%|██████████| 250/250 [00:20<00:00, 12.29it/s, loss=0.335]\n"
          ]
        },
        {
          "output_type": "stream",
          "name": "stdout",
          "text": [
            "Epoch  [14 / 100]:  Train Loss:0.3412, Train Acc:0.857125\n",
            "Epoch  [14 / 100]:  Valid Loss:0.3348, Valid Acc:0.8628472222222222\n"
          ]
        },
        {
          "output_type": "stream",
          "name": "stderr",
          "text": [
            "Epoch  [15/100]: 100%|██████████| 250/250 [00:20<00:00, 12.29it/s, loss=0.323]\n"
          ]
        },
        {
          "output_type": "stream",
          "name": "stdout",
          "text": [
            "Epoch  [15 / 100]:  Train Loss:0.3414, Train Acc:0.858125\n",
            "Epoch  [15 / 100]:  Valid Loss:0.3318, Valid Acc:0.865203373015873\n",
            "Saving model with acc 0.865, Best model found at epoch 14\n"
          ]
        },
        {
          "output_type": "stream",
          "name": "stderr",
          "text": [
            "Epoch  [16/100]: 100%|██████████| 250/250 [00:20<00:00, 12.27it/s, loss=0.429]\n"
          ]
        },
        {
          "output_type": "stream",
          "name": "stdout",
          "text": [
            "Epoch  [16 / 100]:  Train Loss:0.3383, Train Acc:0.8591875\n",
            "Epoch  [16 / 100]:  Valid Loss:0.3385, Valid Acc:0.8591269841269841\n"
          ]
        },
        {
          "output_type": "stream",
          "name": "stderr",
          "text": [
            "Epoch  [17/100]: 100%|██████████| 250/250 [00:20<00:00, 12.31it/s, loss=0.277]\n"
          ]
        },
        {
          "output_type": "stream",
          "name": "stdout",
          "text": [
            "Epoch  [17 / 100]:  Train Loss:0.3369, Train Acc:0.8600625\n",
            "Epoch  [17 / 100]:  Valid Loss:0.3281, Valid Acc:0.8618551587301587\n"
          ]
        },
        {
          "output_type": "stream",
          "name": "stderr",
          "text": [
            "Epoch  [18/100]: 100%|██████████| 250/250 [00:20<00:00, 12.30it/s, loss=0.301]\n"
          ]
        },
        {
          "output_type": "stream",
          "name": "stdout",
          "text": [
            "Epoch  [18 / 100]:  Train Loss:0.3363, Train Acc:0.859\n",
            "Epoch  [18 / 100]:  Valid Loss:0.3250, Valid Acc:0.8637152777777778\n"
          ]
        },
        {
          "output_type": "stream",
          "name": "stderr",
          "text": [
            "Epoch  [19/100]: 100%|██████████| 250/250 [00:20<00:00, 12.31it/s, loss=0.365]\n"
          ]
        },
        {
          "output_type": "stream",
          "name": "stdout",
          "text": [
            "Epoch  [19 / 100]:  Train Loss:0.3359, Train Acc:0.85978125\n",
            "Epoch  [19 / 100]:  Valid Loss:0.3296, Valid Acc:0.861359126984127\n"
          ]
        },
        {
          "output_type": "stream",
          "name": "stderr",
          "text": [
            "Epoch  [20/100]: 100%|██████████| 250/250 [00:20<00:00, 12.23it/s, loss=0.444]\n"
          ]
        },
        {
          "output_type": "stream",
          "name": "stdout",
          "text": [
            "Epoch  [20 / 100]:  Train Loss:0.3349, Train Acc:0.85840625\n",
            "Epoch  [20 / 100]:  Valid Loss:0.3297, Valid Acc:0.8649553571428571\n"
          ]
        },
        {
          "output_type": "stream",
          "name": "stderr",
          "text": [
            "Epoch  [21/100]: 100%|██████████| 250/250 [00:20<00:00, 12.32it/s, loss=0.315]\n"
          ]
        },
        {
          "output_type": "stream",
          "name": "stdout",
          "text": [
            "Epoch  [21 / 100]:  Train Loss:0.3325, Train Acc:0.8583125\n",
            "Epoch  [21 / 100]:  Valid Loss:0.3296, Valid Acc:0.8638392857142857\n"
          ]
        },
        {
          "output_type": "stream",
          "name": "stderr",
          "text": [
            "Epoch  [22/100]: 100%|██████████| 250/250 [00:20<00:00, 12.31it/s, loss=0.311]\n"
          ]
        },
        {
          "output_type": "stream",
          "name": "stdout",
          "text": [
            "Epoch  [22 / 100]:  Train Loss:0.3338, Train Acc:0.8586875\n",
            "Epoch  [22 / 100]:  Valid Loss:0.3272, Valid Acc:0.8638392857142857\n"
          ]
        },
        {
          "output_type": "stream",
          "name": "stderr",
          "text": [
            "Epoch  [23/100]: 100%|██████████| 250/250 [00:20<00:00, 12.31it/s, loss=0.335]\n"
          ]
        },
        {
          "output_type": "stream",
          "name": "stdout",
          "text": [
            "Epoch  [23 / 100]:  Train Loss:0.3340, Train Acc:0.860625\n",
            "Epoch  [23 / 100]:  Valid Loss:0.3250, Valid Acc:0.8666914682539683\n",
            "Saving model with acc 0.867, Best model found at epoch 22\n"
          ]
        },
        {
          "output_type": "stream",
          "name": "stderr",
          "text": [
            "Epoch  [24/100]: 100%|██████████| 250/250 [00:20<00:00, 12.30it/s, loss=0.298]\n"
          ]
        },
        {
          "output_type": "stream",
          "name": "stdout",
          "text": [
            "Epoch  [24 / 100]:  Train Loss:0.3303, Train Acc:0.8595\n",
            "Epoch  [24 / 100]:  Valid Loss:0.3276, Valid Acc:0.8655753968253969\n"
          ]
        },
        {
          "output_type": "stream",
          "name": "stderr",
          "text": [
            "Epoch  [25/100]: 100%|██████████| 250/250 [00:20<00:00, 12.36it/s, loss=0.368]\n"
          ]
        },
        {
          "output_type": "stream",
          "name": "stdout",
          "text": [
            "Epoch  [25 / 100]:  Train Loss:0.3328, Train Acc:0.85975\n",
            "Epoch  [25 / 100]:  Valid Loss:0.3301, Valid Acc:0.8648313492063492\n"
          ]
        },
        {
          "output_type": "stream",
          "name": "stderr",
          "text": [
            "Epoch  [26/100]: 100%|██████████| 250/250 [00:20<00:00, 12.27it/s, loss=0.302]\n"
          ]
        },
        {
          "output_type": "stream",
          "name": "stdout",
          "text": [
            "Epoch  [26 / 100]:  Train Loss:0.3304, Train Acc:0.8603125\n",
            "Epoch  [26 / 100]:  Valid Loss:0.3424, Valid Acc:0.8647073412698413\n"
          ]
        },
        {
          "output_type": "stream",
          "name": "stderr",
          "text": [
            "Epoch  [27/100]: 100%|██████████| 250/250 [00:20<00:00, 12.32it/s, loss=0.354]\n"
          ]
        },
        {
          "output_type": "stream",
          "name": "stdout",
          "text": [
            "Epoch  [27 / 100]:  Train Loss:0.3297, Train Acc:0.86196875\n",
            "Epoch  [27 / 100]:  Valid Loss:0.3350, Valid Acc:0.861359126984127\n"
          ]
        },
        {
          "output_type": "stream",
          "name": "stderr",
          "text": [
            "Epoch  [28/100]: 100%|██████████| 250/250 [00:20<00:00, 12.31it/s, loss=0.304]\n"
          ]
        },
        {
          "output_type": "stream",
          "name": "stdout",
          "text": [
            "Epoch  [28 / 100]:  Train Loss:0.3281, Train Acc:0.860875\n",
            "Epoch  [28 / 100]:  Valid Loss:0.3339, Valid Acc:0.8660714285714286\n"
          ]
        },
        {
          "output_type": "stream",
          "name": "stderr",
          "text": [
            "Epoch  [29/100]: 100%|██████████| 250/250 [00:20<00:00, 12.32it/s, loss=0.355]\n"
          ]
        },
        {
          "output_type": "stream",
          "name": "stdout",
          "text": [
            "Epoch  [29 / 100]:  Train Loss:0.3294, Train Acc:0.8618125\n",
            "Epoch  [29 / 100]:  Valid Loss:0.3478, Valid Acc:0.8649553571428571\n"
          ]
        },
        {
          "output_type": "stream",
          "name": "stderr",
          "text": [
            "Epoch  [30/100]: 100%|██████████| 250/250 [00:20<00:00, 12.30it/s, loss=0.254]\n"
          ]
        },
        {
          "output_type": "stream",
          "name": "stdout",
          "text": [
            "Epoch  [30 / 100]:  Train Loss:0.3260, Train Acc:0.86225\n",
            "Epoch  [30 / 100]:  Valid Loss:0.3536, Valid Acc:0.8617311507936508\n"
          ]
        },
        {
          "output_type": "stream",
          "name": "stderr",
          "text": [
            "Epoch  [31/100]: 100%|██████████| 250/250 [00:20<00:00, 12.35it/s, loss=0.34]\n"
          ]
        },
        {
          "output_type": "stream",
          "name": "stdout",
          "text": [
            "Epoch  [31 / 100]:  Train Loss:0.3275, Train Acc:0.8609375\n",
            "Epoch  [31 / 100]:  Valid Loss:0.3316, Valid Acc:0.8621031746031746\n"
          ]
        },
        {
          "output_type": "stream",
          "name": "stderr",
          "text": [
            "Epoch  [32/100]: 100%|██████████| 250/250 [00:20<00:00, 12.18it/s, loss=0.329]\n"
          ]
        },
        {
          "output_type": "stream",
          "name": "stdout",
          "text": [
            "Epoch  [32 / 100]:  Train Loss:0.3260, Train Acc:0.86128125\n",
            "Epoch  [32 / 100]:  Valid Loss:0.3350, Valid Acc:0.8628472222222222\n"
          ]
        },
        {
          "output_type": "stream",
          "name": "stderr",
          "text": [
            "Epoch  [33/100]: 100%|██████████| 250/250 [00:20<00:00, 12.31it/s, loss=0.355]\n"
          ]
        },
        {
          "output_type": "stream",
          "name": "stdout",
          "text": [
            "Epoch  [33 / 100]:  Train Loss:0.3265, Train Acc:0.86328125\n",
            "Epoch  [33 / 100]:  Valid Loss:0.3269, Valid Acc:0.8673115079365079\n",
            "Saving model with acc 0.867, Best model found at epoch 32\n"
          ]
        },
        {
          "output_type": "stream",
          "name": "stderr",
          "text": [
            "Epoch  [34/100]: 100%|██████████| 250/250 [00:20<00:00, 12.21it/s, loss=0.354]\n"
          ]
        },
        {
          "output_type": "stream",
          "name": "stdout",
          "text": [
            "Epoch  [34 / 100]:  Train Loss:0.3227, Train Acc:0.86346875\n",
            "Epoch  [34 / 100]:  Valid Loss:0.3306, Valid Acc:0.8634672619047619\n"
          ]
        },
        {
          "output_type": "stream",
          "name": "stderr",
          "text": [
            "Epoch  [35/100]: 100%|██████████| 250/250 [00:20<00:00, 12.25it/s, loss=0.384]\n"
          ]
        },
        {
          "output_type": "stream",
          "name": "stdout",
          "text": [
            "Epoch  [35 / 100]:  Train Loss:0.3235, Train Acc:0.86275\n",
            "Epoch  [35 / 100]:  Valid Loss:0.3360, Valid Acc:0.8635912698412699\n"
          ]
        },
        {
          "output_type": "stream",
          "name": "stderr",
          "text": [
            "Epoch  [36/100]: 100%|██████████| 250/250 [00:20<00:00, 12.27it/s, loss=0.346]\n"
          ]
        },
        {
          "output_type": "stream",
          "name": "stdout",
          "text": [
            "Epoch  [36 / 100]:  Train Loss:0.3229, Train Acc:0.8645\n",
            "Epoch  [36 / 100]:  Valid Loss:0.3541, Valid Acc:0.8647073412698413\n"
          ]
        },
        {
          "output_type": "stream",
          "name": "stderr",
          "text": [
            "Epoch  [37/100]: 100%|██████████| 250/250 [00:20<00:00, 12.22it/s, loss=0.381]\n"
          ]
        },
        {
          "output_type": "stream",
          "name": "stdout",
          "text": [
            "Epoch  [37 / 100]:  Train Loss:0.3241, Train Acc:0.86315625\n",
            "Epoch  [37 / 100]:  Valid Loss:0.3426, Valid Acc:0.8656994047619048\n"
          ]
        },
        {
          "output_type": "stream",
          "name": "stderr",
          "text": [
            "Epoch  [38/100]: 100%|██████████| 250/250 [00:20<00:00, 12.26it/s, loss=0.35]\n"
          ]
        },
        {
          "output_type": "stream",
          "name": "stdout",
          "text": [
            "Epoch  [38 / 100]:  Train Loss:0.3200, Train Acc:0.8636875\n",
            "Epoch  [38 / 100]:  Valid Loss:0.3346, Valid Acc:0.8655753968253969\n"
          ]
        },
        {
          "output_type": "stream",
          "name": "stderr",
          "text": [
            "Epoch  [39/100]: 100%|██████████| 250/250 [00:20<00:00, 12.31it/s, loss=0.398]\n"
          ]
        },
        {
          "output_type": "stream",
          "name": "stdout",
          "text": [
            "Epoch  [39 / 100]:  Train Loss:0.3223, Train Acc:0.86396875\n",
            "Epoch  [39 / 100]:  Valid Loss:0.3268, Valid Acc:0.8669394841269841\n"
          ]
        },
        {
          "output_type": "stream",
          "name": "stderr",
          "text": [
            "Epoch  [40/100]: 100%|██████████| 250/250 [00:20<00:00, 12.31it/s, loss=0.377]\n"
          ]
        },
        {
          "output_type": "stream",
          "name": "stdout",
          "text": [
            "Epoch  [40 / 100]:  Train Loss:0.3217, Train Acc:0.864875\n",
            "Epoch  [40 / 100]:  Valid Loss:0.3337, Valid Acc:0.8639632936507936\n"
          ]
        },
        {
          "output_type": "stream",
          "name": "stderr",
          "text": [
            "Epoch  [41/100]: 100%|██████████| 250/250 [00:20<00:00, 12.27it/s, loss=0.349]\n"
          ]
        },
        {
          "output_type": "stream",
          "name": "stdout",
          "text": [
            "Epoch  [41 / 100]:  Train Loss:0.3198, Train Acc:0.8625625\n",
            "Epoch  [41 / 100]:  Valid Loss:0.3468, Valid Acc:0.8676835317460317\n",
            "Saving model with acc 0.868, Best model found at epoch 40\n"
          ]
        },
        {
          "output_type": "stream",
          "name": "stderr",
          "text": [
            "Epoch  [42/100]: 100%|██████████| 250/250 [00:20<00:00, 12.19it/s, loss=0.334]\n"
          ]
        },
        {
          "output_type": "stream",
          "name": "stdout",
          "text": [
            "Epoch  [42 / 100]:  Train Loss:0.3201, Train Acc:0.86328125\n",
            "Epoch  [42 / 100]:  Valid Loss:0.3320, Valid Acc:0.8629712301587301\n"
          ]
        },
        {
          "output_type": "stream",
          "name": "stderr",
          "text": [
            "Epoch  [43/100]: 100%|██████████| 250/250 [00:20<00:00, 12.25it/s, loss=0.276]\n"
          ]
        },
        {
          "output_type": "stream",
          "name": "stdout",
          "text": [
            "Epoch  [43 / 100]:  Train Loss:0.3192, Train Acc:0.86521875\n",
            "Epoch  [43 / 100]:  Valid Loss:0.3491, Valid Acc:0.8671875\n"
          ]
        },
        {
          "output_type": "stream",
          "name": "stderr",
          "text": [
            "Epoch  [44/100]: 100%|██████████| 250/250 [00:20<00:00, 12.25it/s, loss=0.249]\n"
          ]
        },
        {
          "output_type": "stream",
          "name": "stdout",
          "text": [
            "Epoch  [44 / 100]:  Train Loss:0.3197, Train Acc:0.86425\n",
            "Epoch  [44 / 100]:  Valid Loss:0.3320, Valid Acc:0.8687996031746031\n",
            "Saving model with acc 0.869, Best model found at epoch 43\n"
          ]
        },
        {
          "output_type": "stream",
          "name": "stderr",
          "text": [
            "Epoch  [45/100]: 100%|██████████| 250/250 [00:20<00:00, 12.18it/s, loss=0.419]\n"
          ]
        },
        {
          "output_type": "stream",
          "name": "stdout",
          "text": [
            "Epoch  [45 / 100]:  Train Loss:0.3193, Train Acc:0.86290625\n",
            "Epoch  [45 / 100]:  Valid Loss:0.3393, Valid Acc:0.8676835317460317\n"
          ]
        },
        {
          "output_type": "stream",
          "name": "stderr",
          "text": [
            "Epoch  [46/100]: 100%|██████████| 250/250 [00:20<00:00, 12.18it/s, loss=0.198]\n"
          ]
        },
        {
          "output_type": "stream",
          "name": "stdout",
          "text": [
            "Epoch  [46 / 100]:  Train Loss:0.3189, Train Acc:0.86428125\n",
            "Epoch  [46 / 100]:  Valid Loss:0.3340, Valid Acc:0.8692956349206349\n",
            "Saving model with acc 0.869, Best model found at epoch 45\n"
          ]
        },
        {
          "output_type": "stream",
          "name": "stderr",
          "text": [
            "Epoch  [47/100]: 100%|██████████| 250/250 [00:20<00:00, 12.21it/s, loss=0.325]\n"
          ]
        },
        {
          "output_type": "stream",
          "name": "stdout",
          "text": [
            "Epoch  [47 / 100]:  Train Loss:0.3140, Train Acc:0.8675\n",
            "Epoch  [47 / 100]:  Valid Loss:0.3280, Valid Acc:0.8654513888888888\n"
          ]
        },
        {
          "output_type": "stream",
          "name": "stderr",
          "text": [
            "Epoch  [48/100]: 100%|██████████| 250/250 [00:20<00:00, 12.15it/s, loss=0.254]\n"
          ]
        },
        {
          "output_type": "stream",
          "name": "stdout",
          "text": [
            "Epoch  [48 / 100]:  Train Loss:0.3141, Train Acc:0.86684375\n",
            "Epoch  [48 / 100]:  Valid Loss:0.3325, Valid Acc:0.865203373015873\n"
          ]
        },
        {
          "output_type": "stream",
          "name": "stderr",
          "text": [
            "Epoch  [49/100]: 100%|██████████| 250/250 [00:20<00:00, 12.17it/s, loss=0.389]\n"
          ]
        },
        {
          "output_type": "stream",
          "name": "stdout",
          "text": [
            "Epoch  [49 / 100]:  Train Loss:0.3131, Train Acc:0.865\n",
            "Epoch  [49 / 100]:  Valid Loss:0.3299, Valid Acc:0.8665674603174603\n"
          ]
        },
        {
          "output_type": "stream",
          "name": "stderr",
          "text": [
            "Epoch  [50/100]: 100%|██████████| 250/250 [00:20<00:00, 12.13it/s, loss=0.263]\n"
          ]
        },
        {
          "output_type": "stream",
          "name": "stdout",
          "text": [
            "Epoch  [50 / 100]:  Train Loss:0.3147, Train Acc:0.8660625\n",
            "Epoch  [50 / 100]:  Valid Loss:0.3559, Valid Acc:0.861359126984127\n"
          ]
        },
        {
          "output_type": "stream",
          "name": "stderr",
          "text": [
            "Epoch  [51/100]: 100%|██████████| 250/250 [00:20<00:00, 12.19it/s, loss=0.33]\n"
          ]
        },
        {
          "output_type": "stream",
          "name": "stdout",
          "text": [
            "Epoch  [51 / 100]:  Train Loss:0.3146, Train Acc:0.86590625\n",
            "Epoch  [51 / 100]:  Valid Loss:0.3547, Valid Acc:0.8642113095238095\n"
          ]
        },
        {
          "output_type": "stream",
          "name": "stderr",
          "text": [
            "Epoch  [52/100]: 100%|██████████| 250/250 [00:20<00:00, 12.26it/s, loss=0.253]\n"
          ]
        },
        {
          "output_type": "stream",
          "name": "stdout",
          "text": [
            "Epoch  [52 / 100]:  Train Loss:0.3142, Train Acc:0.86665625\n",
            "Epoch  [52 / 100]:  Valid Loss:0.3364, Valid Acc:0.8675595238095238\n"
          ]
        },
        {
          "output_type": "stream",
          "name": "stderr",
          "text": [
            "Epoch  [53/100]: 100%|██████████| 250/250 [00:20<00:00, 12.21it/s, loss=0.366]\n"
          ]
        },
        {
          "output_type": "stream",
          "name": "stdout",
          "text": [
            "Epoch  [53 / 100]:  Train Loss:0.3115, Train Acc:0.86859375\n",
            "Epoch  [53 / 100]:  Valid Loss:0.3401, Valid Acc:0.8668154761904762\n"
          ]
        },
        {
          "output_type": "stream",
          "name": "stderr",
          "text": [
            "Epoch  [54/100]: 100%|██████████| 250/250 [00:20<00:00, 12.22it/s, loss=0.268]\n"
          ]
        },
        {
          "output_type": "stream",
          "name": "stdout",
          "text": [
            "Epoch  [54 / 100]:  Train Loss:0.3106, Train Acc:0.86746875\n",
            "Epoch  [54 / 100]:  Valid Loss:0.3438, Valid Acc:0.8623511904761905\n"
          ]
        },
        {
          "output_type": "stream",
          "name": "stderr",
          "text": [
            "Epoch  [55/100]: 100%|██████████| 250/250 [00:20<00:00, 12.26it/s, loss=0.366]\n"
          ]
        },
        {
          "output_type": "stream",
          "name": "stdout",
          "text": [
            "Epoch  [55 / 100]:  Train Loss:0.3111, Train Acc:0.86590625\n",
            "Epoch  [55 / 100]:  Valid Loss:0.3411, Valid Acc:0.8640873015873016\n"
          ]
        },
        {
          "output_type": "stream",
          "name": "stderr",
          "text": [
            "Epoch  [56/100]: 100%|██████████| 250/250 [00:20<00:00, 12.29it/s, loss=0.322]\n"
          ]
        },
        {
          "output_type": "stream",
          "name": "stdout",
          "text": [
            "Epoch  [56 / 100]:  Train Loss:0.3108, Train Acc:0.8669375\n",
            "Epoch  [56 / 100]:  Valid Loss:0.3367, Valid Acc:0.8655753968253969\n"
          ]
        },
        {
          "output_type": "stream",
          "name": "stderr",
          "text": [
            "Epoch  [57/100]: 100%|██████████| 250/250 [00:20<00:00, 12.22it/s, loss=0.355]\n"
          ]
        },
        {
          "output_type": "stream",
          "name": "stdout",
          "text": [
            "Epoch  [57 / 100]:  Train Loss:0.3134, Train Acc:0.865625\n",
            "Epoch  [57 / 100]:  Valid Loss:0.3317, Valid Acc:0.8670634920634921\n"
          ]
        },
        {
          "output_type": "stream",
          "name": "stderr",
          "text": [
            "Epoch  [58/100]: 100%|██████████| 250/250 [00:20<00:00, 12.23it/s, loss=0.316]\n"
          ]
        },
        {
          "output_type": "stream",
          "name": "stdout",
          "text": [
            "Epoch  [58 / 100]:  Train Loss:0.3090, Train Acc:0.86584375\n",
            "Epoch  [58 / 100]:  Valid Loss:0.3468, Valid Acc:0.8674355158730159\n"
          ]
        },
        {
          "output_type": "stream",
          "name": "stderr",
          "text": [
            "Epoch  [59/100]: 100%|██████████| 250/250 [00:20<00:00, 12.19it/s, loss=0.357]\n"
          ]
        },
        {
          "output_type": "stream",
          "name": "stdout",
          "text": [
            "Epoch  [59 / 100]:  Train Loss:0.3074, Train Acc:0.86765625\n",
            "Epoch  [59 / 100]:  Valid Loss:0.3688, Valid Acc:0.8656994047619048\n"
          ]
        },
        {
          "output_type": "stream",
          "name": "stderr",
          "text": [
            "Epoch  [60/100]: 100%|██████████| 250/250 [00:20<00:00, 12.16it/s, loss=0.251]\n"
          ]
        },
        {
          "output_type": "stream",
          "name": "stdout",
          "text": [
            "Epoch  [60 / 100]:  Train Loss:0.3072, Train Acc:0.86884375\n",
            "Epoch  [60 / 100]:  Valid Loss:0.3337, Valid Acc:0.8664434523809523\n"
          ]
        },
        {
          "output_type": "stream",
          "name": "stderr",
          "text": [
            "Epoch  [61/100]: 100%|██████████| 250/250 [00:20<00:00, 12.23it/s, loss=0.273]\n"
          ]
        },
        {
          "output_type": "stream",
          "name": "stdout",
          "text": [
            "Epoch  [61 / 100]:  Train Loss:0.3057, Train Acc:0.8699375\n",
            "Epoch  [61 / 100]:  Valid Loss:0.3384, Valid Acc:0.8653273809523809\n"
          ]
        },
        {
          "output_type": "stream",
          "name": "stderr",
          "text": [
            "Epoch  [62/100]: 100%|██████████| 250/250 [00:20<00:00, 12.23it/s, loss=0.358]\n"
          ]
        },
        {
          "output_type": "stream",
          "name": "stdout",
          "text": [
            "Epoch  [62 / 100]:  Train Loss:0.3084, Train Acc:0.8680625\n",
            "Epoch  [62 / 100]:  Valid Loss:0.3341, Valid Acc:0.8669394841269841\n"
          ]
        },
        {
          "output_type": "stream",
          "name": "stderr",
          "text": [
            "Epoch  [63/100]: 100%|██████████| 250/250 [00:20<00:00, 12.20it/s, loss=0.284]\n"
          ]
        },
        {
          "output_type": "stream",
          "name": "stdout",
          "text": [
            "Epoch  [63 / 100]:  Train Loss:0.3052, Train Acc:0.87071875\n",
            "Epoch  [63 / 100]:  Valid Loss:0.3520, Valid Acc:0.8658234126984127\n"
          ]
        },
        {
          "output_type": "stream",
          "name": "stderr",
          "text": [
            "Epoch  [64/100]: 100%|██████████| 250/250 [00:20<00:00, 12.20it/s, loss=0.316]\n"
          ]
        },
        {
          "output_type": "stream",
          "name": "stdout",
          "text": [
            "Epoch  [64 / 100]:  Train Loss:0.3054, Train Acc:0.86965625\n",
            "Epoch  [64 / 100]:  Valid Loss:0.3446, Valid Acc:0.8649553571428571\n"
          ]
        },
        {
          "output_type": "stream",
          "name": "stderr",
          "text": [
            "Epoch  [65/100]: 100%|██████████| 250/250 [00:20<00:00, 12.24it/s, loss=0.347]\n"
          ]
        },
        {
          "output_type": "stream",
          "name": "stdout",
          "text": [
            "Epoch  [65 / 100]:  Train Loss:0.3049, Train Acc:0.86865625\n",
            "Epoch  [65 / 100]:  Valid Loss:0.3387, Valid Acc:0.8647073412698413\n"
          ]
        },
        {
          "output_type": "stream",
          "name": "stderr",
          "text": [
            "Epoch  [66/100]: 100%|██████████| 250/250 [00:20<00:00, 12.19it/s, loss=0.355]\n"
          ]
        },
        {
          "output_type": "stream",
          "name": "stdout",
          "text": [
            "Epoch  [66 / 100]:  Train Loss:0.3041, Train Acc:0.86978125\n",
            "Epoch  [66 / 100]:  Valid Loss:0.3402, Valid Acc:0.8686755952380952\n"
          ]
        },
        {
          "output_type": "stream",
          "name": "stderr",
          "text": [
            "Epoch  [67/100]: 100%|██████████| 250/250 [00:20<00:00, 12.21it/s, loss=0.282]\n"
          ]
        },
        {
          "output_type": "stream",
          "name": "stdout",
          "text": [
            "Epoch  [67 / 100]:  Train Loss:0.3009, Train Acc:0.8715625\n",
            "Epoch  [67 / 100]:  Valid Loss:0.3578, Valid Acc:0.8664434523809523\n"
          ]
        },
        {
          "output_type": "stream",
          "name": "stderr",
          "text": [
            "Epoch  [68/100]: 100%|██████████| 250/250 [00:20<00:00, 12.20it/s, loss=0.323]\n"
          ]
        },
        {
          "output_type": "stream",
          "name": "stdout",
          "text": [
            "Epoch  [68 / 100]:  Train Loss:0.3032, Train Acc:0.86990625\n",
            "Epoch  [68 / 100]:  Valid Loss:0.3365, Valid Acc:0.8634672619047619\n"
          ]
        },
        {
          "output_type": "stream",
          "name": "stderr",
          "text": [
            "Epoch  [69/100]: 100%|██████████| 250/250 [00:20<00:00, 12.22it/s, loss=0.275]\n"
          ]
        },
        {
          "output_type": "stream",
          "name": "stdout",
          "text": [
            "Epoch  [69 / 100]:  Train Loss:0.3018, Train Acc:0.87146875\n",
            "Epoch  [69 / 100]:  Valid Loss:0.3484, Valid Acc:0.8655753968253969\n"
          ]
        },
        {
          "output_type": "stream",
          "name": "stderr",
          "text": [
            "Epoch  [70/100]: 100%|██████████| 250/250 [00:20<00:00, 12.21it/s, loss=0.218]\n"
          ]
        },
        {
          "output_type": "stream",
          "name": "stdout",
          "text": [
            "Epoch  [70 / 100]:  Train Loss:0.2975, Train Acc:0.8719375\n",
            "Epoch  [70 / 100]:  Valid Loss:0.3716, Valid Acc:0.8647073412698413\n"
          ]
        },
        {
          "output_type": "stream",
          "name": "stderr",
          "text": [
            "Epoch  [71/100]: 100%|██████████| 250/250 [00:20<00:00, 12.13it/s, loss=0.287]\n"
          ]
        },
        {
          "output_type": "stream",
          "name": "stdout",
          "text": [
            "Epoch  [71 / 100]:  Train Loss:0.2997, Train Acc:0.8716875\n",
            "Epoch  [71 / 100]:  Valid Loss:0.3433, Valid Acc:0.8603670634920635\n"
          ]
        },
        {
          "output_type": "stream",
          "name": "stderr",
          "text": [
            "Epoch  [72/100]: 100%|██████████| 250/250 [00:20<00:00, 12.12it/s, loss=0.324]\n"
          ]
        },
        {
          "output_type": "stream",
          "name": "stdout",
          "text": [
            "Epoch  [72 / 100]:  Train Loss:0.2973, Train Acc:0.87065625\n",
            "Epoch  [72 / 100]:  Valid Loss:0.3641, Valid Acc:0.8668154761904762\n"
          ]
        },
        {
          "output_type": "stream",
          "name": "stderr",
          "text": [
            "Epoch  [73/100]: 100%|██████████| 250/250 [00:20<00:00, 12.03it/s, loss=0.29]\n"
          ]
        },
        {
          "output_type": "stream",
          "name": "stdout",
          "text": [
            "Epoch  [73 / 100]:  Train Loss:0.2980, Train Acc:0.873625\n",
            "Epoch  [73 / 100]:  Valid Loss:0.3393, Valid Acc:0.8681795634920635\n"
          ]
        },
        {
          "output_type": "stream",
          "name": "stderr",
          "text": [
            "Epoch  [74/100]: 100%|██████████| 250/250 [00:20<00:00, 11.99it/s, loss=0.253]\n"
          ]
        },
        {
          "output_type": "stream",
          "name": "stdout",
          "text": [
            "Epoch  [74 / 100]:  Train Loss:0.2977, Train Acc:0.87190625\n",
            "Epoch  [74 / 100]:  Valid Loss:0.3699, Valid Acc:0.8640873015873016\n"
          ]
        },
        {
          "output_type": "stream",
          "name": "stderr",
          "text": [
            "Epoch  [75/100]: 100%|██████████| 250/250 [00:20<00:00, 12.12it/s, loss=0.329]\n"
          ]
        },
        {
          "output_type": "stream",
          "name": "stdout",
          "text": [
            "Epoch  [75 / 100]:  Train Loss:0.2964, Train Acc:0.87190625\n",
            "Epoch  [75 / 100]:  Valid Loss:0.3414, Valid Acc:0.8614831349206349\n"
          ]
        },
        {
          "output_type": "stream",
          "name": "stderr",
          "text": [
            "Epoch  [76/100]: 100%|██████████| 250/250 [00:20<00:00, 12.04it/s, loss=0.359]\n"
          ]
        },
        {
          "output_type": "stream",
          "name": "stdout",
          "text": [
            "Epoch  [76 / 100]:  Train Loss:0.2951, Train Acc:0.87303125\n",
            "Epoch  [76 / 100]:  Valid Loss:0.3535, Valid Acc:0.8619791666666666\n"
          ]
        },
        {
          "output_type": "stream",
          "name": "stderr",
          "text": [
            "Epoch  [77/100]: 100%|██████████| 250/250 [00:20<00:00, 12.13it/s, loss=0.399]\n"
          ]
        },
        {
          "output_type": "stream",
          "name": "stdout",
          "text": [
            "Epoch  [77 / 100]:  Train Loss:0.2953, Train Acc:0.87246875\n",
            "Epoch  [77 / 100]:  Valid Loss:0.3749, Valid Acc:0.8625992063492064\n"
          ]
        },
        {
          "output_type": "stream",
          "name": "stderr",
          "text": [
            "Epoch  [78/100]: 100%|██████████| 250/250 [00:20<00:00, 12.10it/s, loss=0.266]\n"
          ]
        },
        {
          "output_type": "stream",
          "name": "stdout",
          "text": [
            "Epoch  [78 / 100]:  Train Loss:0.2961, Train Acc:0.8751875\n",
            "Epoch  [78 / 100]:  Valid Loss:0.3839, Valid Acc:0.8604910714285714\n"
          ]
        },
        {
          "output_type": "stream",
          "name": "stderr",
          "text": [
            "Epoch  [79/100]: 100%|██████████| 250/250 [00:20<00:00, 12.18it/s, loss=0.311]\n"
          ]
        },
        {
          "output_type": "stream",
          "name": "stdout",
          "text": [
            "Epoch  [79 / 100]:  Train Loss:0.2949, Train Acc:0.8749375\n",
            "Epoch  [79 / 100]:  Valid Loss:0.3475, Valid Acc:0.8650793650793651\n"
          ]
        },
        {
          "output_type": "stream",
          "name": "stderr",
          "text": [
            "Epoch  [80/100]: 100%|██████████| 250/250 [00:20<00:00, 12.17it/s, loss=0.215]\n"
          ]
        },
        {
          "output_type": "stream",
          "name": "stdout",
          "text": [
            "Epoch  [80 / 100]:  Train Loss:0.2956, Train Acc:0.87484375\n",
            "Epoch  [80 / 100]:  Valid Loss:0.3766, Valid Acc:0.8629712301587301\n"
          ]
        },
        {
          "output_type": "stream",
          "name": "stderr",
          "text": [
            "Epoch  [81/100]: 100%|██████████| 250/250 [00:20<00:00, 12.10it/s, loss=0.26]\n"
          ]
        },
        {
          "output_type": "stream",
          "name": "stdout",
          "text": [
            "Epoch  [81 / 100]:  Train Loss:0.2923, Train Acc:0.8743125\n",
            "Epoch  [81 / 100]:  Valid Loss:0.3537, Valid Acc:0.8628472222222222\n"
          ]
        },
        {
          "output_type": "stream",
          "name": "stderr",
          "text": [
            "Epoch  [82/100]: 100%|██████████| 250/250 [00:20<00:00, 12.13it/s, loss=0.354]\n"
          ]
        },
        {
          "output_type": "stream",
          "name": "stdout",
          "text": [
            "Epoch  [82 / 100]:  Train Loss:0.2933, Train Acc:0.875375\n",
            "Epoch  [82 / 100]:  Valid Loss:0.3604, Valid Acc:0.8616071428571429\n"
          ]
        },
        {
          "output_type": "stream",
          "name": "stderr",
          "text": [
            "Epoch  [83/100]: 100%|██████████| 250/250 [00:20<00:00, 12.15it/s, loss=0.352]\n"
          ]
        },
        {
          "output_type": "stream",
          "name": "stdout",
          "text": [
            "Epoch  [83 / 100]:  Train Loss:0.2904, Train Acc:0.87603125\n",
            "Epoch  [83 / 100]:  Valid Loss:0.3527, Valid Acc:0.8639632936507936\n"
          ]
        },
        {
          "output_type": "stream",
          "name": "stderr",
          "text": [
            "Epoch  [84/100]: 100%|██████████| 250/250 [00:20<00:00, 12.11it/s, loss=0.345]\n"
          ]
        },
        {
          "output_type": "stream",
          "name": "stdout",
          "text": [
            "Epoch  [84 / 100]:  Train Loss:0.2898, Train Acc:0.87603125\n",
            "Epoch  [84 / 100]:  Valid Loss:0.3476, Valid Acc:0.8638392857142857\n"
          ]
        },
        {
          "output_type": "stream",
          "name": "stderr",
          "text": [
            "Epoch  [85/100]: 100%|██████████| 250/250 [00:20<00:00, 12.10it/s, loss=0.339]\n"
          ]
        },
        {
          "output_type": "stream",
          "name": "stdout",
          "text": [
            "Epoch  [85 / 100]:  Train Loss:0.2890, Train Acc:0.87565625\n",
            "Epoch  [85 / 100]:  Valid Loss:0.3792, Valid Acc:0.8624751984126984\n"
          ]
        },
        {
          "output_type": "stream",
          "name": "stderr",
          "text": [
            "Epoch  [86/100]: 100%|██████████| 250/250 [00:20<00:00, 12.20it/s, loss=0.281]\n"
          ]
        },
        {
          "output_type": "stream",
          "name": "stdout",
          "text": [
            "Epoch  [86 / 100]:  Train Loss:0.2894, Train Acc:0.87765625\n",
            "Epoch  [86 / 100]:  Valid Loss:0.3436, Valid Acc:0.8612351190476191\n"
          ]
        },
        {
          "output_type": "stream",
          "name": "stderr",
          "text": [
            "Epoch  [87/100]: 100%|██████████| 250/250 [00:20<00:00, 12.03it/s, loss=0.298]\n"
          ]
        },
        {
          "output_type": "stream",
          "name": "stdout",
          "text": [
            "Epoch  [87 / 100]:  Train Loss:0.2883, Train Acc:0.87765625\n",
            "Epoch  [87 / 100]:  Valid Loss:0.3540, Valid Acc:0.8611111111111112\n"
          ]
        },
        {
          "output_type": "stream",
          "name": "stderr",
          "text": [
            "Epoch  [88/100]: 100%|██████████| 250/250 [00:20<00:00, 12.07it/s, loss=0.347]\n"
          ]
        },
        {
          "output_type": "stream",
          "name": "stdout",
          "text": [
            "Epoch  [88 / 100]:  Train Loss:0.2876, Train Acc:0.87584375\n",
            "Epoch  [88 / 100]:  Valid Loss:0.3530, Valid Acc:0.8567708333333334\n"
          ]
        },
        {
          "output_type": "stream",
          "name": "stderr",
          "text": [
            "Epoch  [89/100]: 100%|██████████| 250/250 [00:20<00:00, 12.14it/s, loss=0.299]\n"
          ]
        },
        {
          "output_type": "stream",
          "name": "stdout",
          "text": [
            "Epoch  [89 / 100]:  Train Loss:0.2863, Train Acc:0.8784375\n",
            "Epoch  [89 / 100]:  Valid Loss:0.3416, Valid Acc:0.8627232142857143\n"
          ]
        },
        {
          "output_type": "stream",
          "name": "stderr",
          "text": [
            "Epoch  [90/100]: 100%|██████████| 250/250 [00:20<00:00, 12.10it/s, loss=0.217]\n"
          ]
        },
        {
          "output_type": "stream",
          "name": "stdout",
          "text": [
            "Epoch  [90 / 100]:  Train Loss:0.2840, Train Acc:0.8785625\n",
            "Epoch  [90 / 100]:  Valid Loss:0.3569, Valid Acc:0.8639632936507936\n"
          ]
        },
        {
          "output_type": "stream",
          "name": "stderr",
          "text": [
            "Epoch  [91/100]: 100%|██████████| 250/250 [00:20<00:00, 12.11it/s, loss=0.254]\n"
          ]
        },
        {
          "output_type": "stream",
          "name": "stdout",
          "text": [
            "Epoch  [91 / 100]:  Train Loss:0.2835, Train Acc:0.8785625\n",
            "Epoch  [91 / 100]:  Valid Loss:0.3526, Valid Acc:0.8587549603174603\n"
          ]
        },
        {
          "output_type": "stream",
          "name": "stderr",
          "text": [
            "Epoch  [92/100]: 100%|██████████| 250/250 [00:20<00:00, 12.08it/s, loss=0.388]\n"
          ]
        },
        {
          "output_type": "stream",
          "name": "stdout",
          "text": [
            "Epoch  [92 / 100]:  Train Loss:0.2843, Train Acc:0.87975\n",
            "Epoch  [92 / 100]:  Valid Loss:0.3451, Valid Acc:0.863343253968254\n"
          ]
        },
        {
          "output_type": "stream",
          "name": "stderr",
          "text": [
            "Epoch  [93/100]: 100%|██████████| 250/250 [00:20<00:00, 12.06it/s, loss=0.241]\n"
          ]
        },
        {
          "output_type": "stream",
          "name": "stdout",
          "text": [
            "Epoch  [93 / 100]:  Train Loss:0.2818, Train Acc:0.87865625\n",
            "Epoch  [93 / 100]:  Valid Loss:0.3596, Valid Acc:0.8647073412698413\n"
          ]
        },
        {
          "output_type": "stream",
          "name": "stderr",
          "text": [
            "Epoch  [94/100]: 100%|██████████| 250/250 [00:20<00:00, 12.09it/s, loss=0.293]\n"
          ]
        },
        {
          "output_type": "stream",
          "name": "stdout",
          "text": [
            "Epoch  [94 / 100]:  Train Loss:0.2836, Train Acc:0.877625\n",
            "Epoch  [94 / 100]:  Valid Loss:0.3476, Valid Acc:0.8624751984126984\n"
          ]
        },
        {
          "output_type": "stream",
          "name": "stderr",
          "text": [
            "Epoch  [95/100]: 100%|██████████| 250/250 [00:20<00:00, 12.03it/s, loss=0.247]\n"
          ]
        },
        {
          "output_type": "stream",
          "name": "stdout",
          "text": [
            "Epoch  [95 / 100]:  Train Loss:0.2824, Train Acc:0.88015625\n",
            "Epoch  [95 / 100]:  Valid Loss:0.3556, Valid Acc:0.8628472222222222\n"
          ]
        },
        {
          "output_type": "stream",
          "name": "stderr",
          "text": [
            "Epoch  [96/100]: 100%|██████████| 250/250 [00:20<00:00, 12.09it/s, loss=0.291]\n"
          ]
        },
        {
          "output_type": "stream",
          "name": "stdout",
          "text": [
            "Epoch  [96 / 100]:  Train Loss:0.2793, Train Acc:0.87965625\n",
            "Epoch  [96 / 100]:  Valid Loss:0.3547, Valid Acc:0.8612351190476191\n",
            "Model is not improving, so we halt the traing session\n"
          ]
        }
      ],
      "source": [
        "model = MyModel(input_dim=X_train.shape[1], hidden_layers=config['hidden_layers'], hidden_dim=config['hidden_dim']).to(device)\n",
        "criterion = nn.CrossEntropyLoss()\n",
        "# optimizer = torch.optim.SGD(model.parameters(), lr=config['learning_rate'], momentum=0.9, weight_decay=1e-5)\n",
        "optimizer = torch.optim.Adam(model.parameters(), lr=config['learning_rate'])\n",
        "scheduler = CosineAnnealingWarmRestarts(optimizer,T_0=5,T_mult=1)  # T_mult=2时效果不好，准确率不高\n",
        "\n",
        "if not os.path.isdir('./models'):\n",
        "    os.mkdir('./models')\n",
        "\n",
        "n_epochs = config['n_epochs']\n",
        "best_acc = 0.0\n",
        "early_stop_count = 0\n",
        "\n",
        "for epoch in range(n_epochs):\n",
        "    # train\n",
        "    model.train()\n",
        "    loss_record = []\n",
        "    acc_record = []\n",
        "    train_pbar = tqdm(train_loader)\n",
        "    for X, y in train_pbar:\n",
        "      optimizer.zero_grad()\n",
        "      X, y = X.to(device), y.to(device)\n",
        "      pred = model(X)\n",
        "      loss = criterion(pred, y.long())  # y.long() is equivalent to self.to(torch.int64)\n",
        "      loss.backward()\n",
        "      \n",
        "      # Clip the gradient norms for stable training.\n",
        "      grad_norm = nn.utils.clip_grad_norm_(model.parameters(), max_norm=10)\n",
        "      \n",
        "      optimizer.step()\n",
        "      scheduler.step()   \n",
        "      \n",
        "      loss_record.append(loss.detach().item())\n",
        "      train_pbar.set_description(f'Epoch  [{epoch+1}/{n_epochs}]')\n",
        "      train_pbar.set_postfix({'loss': loss.detach().item()})\n",
        "   \n",
        "      _, pred_max_index = torch.max(pred.data, dim=1) \n",
        "      acc = (pred_max_index.detach() == y.detach()).float().mean().item() # before add .item():<class 'torch.Tensor'>    after add .item():<class 'float'>\n",
        "      acc_record.append(acc)\n",
        "\n",
        "    mean_train_loss = sum(loss_record) / len(loss_record)\n",
        "    # torch.argmax(dim=0):column, torch.argmax(dim=1):row\n",
        "    mean_train_acc = sum(acc_record) / len(acc_record)\n",
        "    \n",
        "    print(f'Epoch  [{epoch+1} / {n_epochs}]:  Train Loss:{mean_train_loss:.4f}, Train Acc:{mean_train_acc}')\n",
        "\n",
        "    \n",
        "    # valid\n",
        "    model.eval()\n",
        "    valid_loss_record = []\n",
        "    valid_acc_record = []\n",
        "    for X, y in valid_loader:\n",
        "      X, y = X.to(device), y.to(device)\n",
        "      with torch.no_grad():\n",
        "        pred = model(X)\n",
        "      loss = criterion(pred, y.long())\n",
        "      valid_loss_record.append(loss.item())\n",
        "    \n",
        "      _, pred_max_index = torch.max(pred, dim=1) \n",
        "      acc = (pred_max_index.detach() == y.detach()).float().mean().item()\n",
        "      valid_acc_record.append(acc)\n",
        "\n",
        "    mean_valid_loss = sum(valid_loss_record) / len(valid_loss_record)\n",
        "    mean_valid_acc = sum(valid_acc_record) / len(valid_acc_record)\n",
        "    \n",
        "    \n",
        "    print(f'Epoch  [{epoch+1} / {n_epochs}]:  Valid Loss:{mean_valid_loss:.4f}, Valid Acc:{mean_valid_acc}')\n",
        "    \n",
        "    if mean_valid_acc > best_acc:\n",
        "      best_acc = mean_valid_acc\n",
        "      torch.save(model.state_dict(), config['save_path'])\n",
        "      print(f'Saving model with acc {best_acc:.3f}, Best model found at epoch {epoch}')\n",
        "      early_stop_count = 0\n",
        "    else:\n",
        "      early_stop_count += 1\n",
        "      if early_stop_count >= config['early_stop']:\n",
        "          print('Model is not improving, so we halt the traing session')\n",
        "          break\n",
        "\n"
      ]
    },
    {
      "cell_type": "markdown",
      "metadata": {
        "id": "h1eLik-JPzCO"
      },
      "source": [
        "9. 对测试数据进行预测"
      ]
    },
    {
      "cell_type": "code",
      "execution_count": null,
      "metadata": {
        "id": "Rq-xK9wJ0LeE"
      },
      "outputs": [],
      "source": [
        "def save_pred(preds, file):\n",
        "  with open(file, 'w') as fp:\n",
        "    writer = csv.writer(fp)\n",
        "    writer.writerow(['id', 'label'])\n",
        "    for i, p in enumerate(preds):\n",
        "      writer.writerow([i, p])"
      ]
    },
    {
      "cell_type": "code",
      "execution_count": null,
      "metadata": {
        "colab": {
          "base_uri": "https://localhost:8080/"
        },
        "id": "UKS6sAhA0LY3",
        "outputId": "01319d6b-8edb-4c00-92f8-c9f6443c19a6"
      },
      "outputs": [
        {
          "output_type": "stream",
          "name": "stdout",
          "text": [
            "Epoch  [96 / 100]:  test Acc:0.8581882911392406\n"
          ]
        }
      ],
      "source": [
        "model = MyModel(input_dim=X_train.shape[1], hidden_layers=config['hidden_layers'], hidden_dim=config['hidden_dim']).to(device)\n",
        "model.load_state_dict(torch.load(config['save_path']))\n",
        "model.eval()\n",
        "test_acc_record = []\n",
        "prediction = []\n",
        "for X, y in test_loader:\n",
        "  X = X.to(device)\n",
        "  y = y.to(device)\n",
        "  with torch.no_grad():\n",
        "    pred = model(X)\n",
        "  # torch.max:依次最大值和最大值的索引，dim=1（按列返回）\n",
        "  _, idx_max = torch.max(pred.cpu().data, dim=1)\n",
        "  acc = (idx_max.detach() == y.detach()).float().mean().item()\n",
        "  test_acc_record.append(acc)  \n",
        "  prediction.extend(idx_max.tolist())\n",
        "mean_test_acc = sum(test_acc_record) / len(test_acc_record)\n",
        "print(f'Epoch  [{epoch+1} / {n_epochs}]:  test Acc:{mean_test_acc}')\n",
        "\n",
        "preds = np.array(prediction)\n",
        "save_pred(preds, 'pred.csv')"
      ]
    }
  ],
  "metadata": {
    "colab": {
      "provenance": [],
      "mount_file_id": "1CBZZgQIY1IENanr0bERdPLh9QJJKWtqy",
      "authorship_tag": "ABX9TyOhARTROOt8xY2uXrFrwyxw",
      "include_colab_link": true
    },
    "kernelspec": {
      "display_name": "Python 3",
      "name": "python3"
    },
    "language_info": {
      "name": "python"
    }
  },
  "nbformat": 4,
  "nbformat_minor": 0
}